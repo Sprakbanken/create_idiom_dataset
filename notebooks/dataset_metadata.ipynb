{
 "cells": [
  {
   "cell_type": "markdown",
   "metadata": {},
   "source": [
    "# Num unique idioms"
   ]
  },
  {
   "cell_type": "code",
   "execution_count": 1,
   "metadata": {},
   "outputs": [
    {
     "name": "stdout",
     "output_type": "stream",
     "text": [
      "3553\n",
      "nno 89\n",
      "nob 3472\n"
     ]
    }
   ],
   "source": [
    "import pandas as pd\n",
    "\n",
    "df = pd.read_csv(\"../idiom_dataset/idiom_freqs/idiom_frequencies.csv\")\n",
    "print(len(df.idiom.unique()))\n",
    "\n",
    "for lang, idioms in df.groupby(\"language\"):\n",
    "    print(lang, len(idioms.idiom.unique()))"
   ]
  },
  {
   "cell_type": "markdown",
   "metadata": {},
   "source": [
    "## Including translated idioms"
   ]
  },
  {
   "cell_type": "code",
   "execution_count": 2,
   "metadata": {},
   "outputs": [
    {
     "name": "stdout",
     "output_type": "stream",
     "text": [
      "4600\n",
      "nno 1707\n",
      "nob 3502\n"
     ]
    }
   ],
   "source": [
    "trans_df = pd.read_csv(\"../idiom_dataset/idiom_freqs/translated_idiom_frequencies.csv\")\n",
    "both_df = pd.concat([df, trans_df])\n",
    "print(len(both_df.idiom.unique()))\n",
    "for lang, idioms in both_df.groupby(\"language\"):\n",
    "    print(lang, len(idioms.idiom.unique()))"
   ]
  },
  {
   "cell_type": "markdown",
   "metadata": {},
   "source": [
    "# Num rows idiom completion task"
   ]
  },
  {
   "cell_type": "code",
   "execution_count": 3,
   "metadata": {},
   "outputs": [
    {
     "name": "stdout",
     "output_type": "stream",
     "text": [
      "3259\n",
      "154\n",
      "nno 89\n",
      "0\n",
      "nob 3170\n",
      "154\n"
     ]
    }
   ],
   "source": [
    "import pandas as pd\n",
    "\n",
    "\n",
    "df = pd.read_json(\"../idiom_dataset/data.jsonl\", lines=True, orient=\"records\")\n",
    "print(len(df))\n",
    "print(len(df[df.accepted_completions.apply(len) > 1]))\n",
    "\n",
    "for lang, df_ in df.groupby(\"language\"):\n",
    "    print(lang, len(df_))\n",
    "    print(len(df_[df_.accepted_completions.apply(len) > 1]))"
   ]
  },
  {
   "cell_type": "markdown",
   "metadata": {},
   "source": [
    "## Including translated idioms"
   ]
  },
  {
   "cell_type": "code",
   "execution_count": 4,
   "metadata": {},
   "outputs": [
    {
     "name": "stdout",
     "output_type": "stream",
     "text": [
      "4768\n",
      "232\n",
      "nno 1568\n",
      "78\n",
      "nob 3200\n",
      "154\n"
     ]
    }
   ],
   "source": [
    "df = pd.read_json(\n",
    "    \"../idiom_dataset/original_and_translated_data.jsonl\", lines=True, orient=\"records\"\n",
    ")\n",
    "print(len(df))\n",
    "print(len(df[df.accepted_completions.apply(len) > 1]))\n",
    "\n",
    "for lang, df_ in df.groupby(\"language\"):\n",
    "    print(lang, len(df_))\n",
    "    print(len(df_[df_.accepted_completions.apply(len) > 1]))"
   ]
  },
  {
   "cell_type": "markdown",
   "metadata": {},
   "source": [
    "# Num graphs idiom graphs"
   ]
  },
  {
   "cell_type": "code",
   "execution_count": 5,
   "metadata": {},
   "outputs": [
    {
     "name": "stdout",
     "output_type": "stream",
     "text": [
      "nno 56\n",
      "translated nno 479 \n",
      "\n",
      "nob 773\n",
      "translated nob 42 \n",
      "\n",
      "829\n",
      "803\n"
     ]
    }
   ],
   "source": [
    "from pathlib import Path\n",
    "import json\n",
    "\n",
    "graph_dir = Path(\"../idiom_dataset/idiom_graphs\")\n",
    "first_words = []\n",
    "\n",
    "for lang in [\"nno\", \"nob\"]:\n",
    "    graph_p = graph_dir / f\"{lang}_idioms_sequence_graph.json\"\n",
    "    graph = json.loads(graph_p.read_text())\n",
    "    for e in graph:\n",
    "        first_words.append(e)\n",
    "    print(lang, len(graph))\n",
    "\n",
    "    translated_graph_p = graph_dir / f\"translated_{lang}_idioms_sequence_graph.json\"\n",
    "    graph = json.loads(translated_graph_p.read_text())\n",
    "    print(\"translated\", lang, len(graph), \"\\n\")\n",
    "\n",
    "print(len(first_words))\n",
    "print(len(set(first_words)))"
   ]
  }
 ],
 "metadata": {
  "kernelspec": {
   "display_name": ".venv",
   "language": "python",
   "name": "python3"
  },
  "language_info": {
   "codemirror_mode": {
    "name": "ipython",
    "version": 3
   },
   "file_extension": ".py",
   "mimetype": "text/x-python",
   "name": "python",
   "nbconvert_exporter": "python",
   "pygments_lexer": "ipython3",
   "version": "3.12.4"
  }
 },
 "nbformat": 4,
 "nbformat_minor": 2
}
